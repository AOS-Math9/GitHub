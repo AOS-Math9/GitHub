{
 "cells": [
  {
   "cell_type": "markdown",
   "metadata": {},
   "source": [
    "How to write programs\n",
    "\n",
    "When speaking English, you need to follow certain rules to be understood, called the grammar or syntax of English. Programming languages have syntax too! Python is easy to learn because it has a very simple syntax.\n",
    "\n",
    "Programming environments use colourful syntax highlighting to help you see how each part of your program will be interpreted:\n",
    "\n",
    "print('Hello, World!')\n",
    "\n",
    "Purple tells you that print is a Python function and green tells you that 'Hello, World!' is a Python string, which we'll talk about in a moment.\n",
    "\n",
    "As you write your code, pay attention to these colours. \n",
    "When the colours are not as you expect, there's usually a typo that needs fixing. \n",
    "\n",
    " Notice how there is automatically a space between the two words.\n",
    "\n",
    "We could do the same example by storing the words in variables: \n",
    "    \n",
    "    The technical name for this is passing multiple arguments to a function. \n",
    "    We will discuss this more later. \n",
    "    \n",
    "    "
   ]
  },
  {
   "cell_type": "code",
   "execution_count": 3,
   "metadata": {},
   "outputs": [
    {
     "name": "stdout",
     "output_type": "stream",
     "text": [
      "Hello, World!\n",
      "Hello, World!\n",
      "Harry Potter\n",
      "Harry Potter\n"
     ]
    }
   ],
   "source": [
    "print('Hello, World!')\n",
    "print(\"Hello, World!\")\n",
    "print('Harry', 'Potter')\n",
    "\n",
    "firstname = 'Harry'\n",
    "lastname = 'Potter'\n",
    "print(firstname, lastname)"
   ]
  },
  {
   "cell_type": "code",
   "execution_count": null,
   "metadata": {
    "collapsed": true
   },
   "outputs": [],
   "source": []
  }
 ],
 "metadata": {
  "kernelspec": {
   "display_name": "Python 3",
   "language": "python",
   "name": "python3"
  },
  "language_info": {
   "codemirror_mode": {
    "name": "ipython",
    "version": 3
   },
   "file_extension": ".py",
   "mimetype": "text/x-python",
   "name": "python",
   "nbconvert_exporter": "python",
   "pygments_lexer": "ipython3",
   "version": "3.6.1"
  }
 },
 "nbformat": 4,
 "nbformat_minor": 2
}
