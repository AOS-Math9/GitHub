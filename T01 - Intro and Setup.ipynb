{
 "cells": [
  {
   "cell_type": "code",
   "execution_count": null,
   "metadata": {
    "collapsed": true
   },
   "outputs": [],
   "source": [
    "\n",
    "\n",
    "from turtle import *\n",
    "from tkinter import *\n",
    "# t = Turtle()\n",
    "# screen = Screen()\n",
    "# screen.setup(850, 850)\n",
    "# screen.bgcolor(\"LightYellow\")\n",
    "\n",
    "colormode(255)\n",
    "\n",
    "def bluelines():\n",
    "    speed(0)\n",
    "    color(0,255,255)                       # Sets CYAN as color\n",
    "    \n",
    "    for i in range(21):                     # Vertical Lines\n",
    "        pu()\n",
    "        goto(-10+i,-10)\n",
    "        pd()\n",
    "        goto(-10+i,10)\n",
    "        pu()\n",
    "        \n",
    "    for j in range(21):                    # Horizontal Lines\n",
    "        pu()\n",
    "        goto(-10,-10+j)\n",
    "        pd()\n",
    "        goto(10,-10+j)\n",
    "        pu()\n",
    "    \n",
    "\n",
    "def setup():\n",
    "                          # Draws an x-y grid for better visualization\n",
    "    speed(0)                               # Check out the speed function \n",
    "    setworldcoordinates (-15,-15,15,15)    # Assuming these are in pixels ... really\n",
    "    setposition(0,0)\n",
    "    clear()\n",
    "    bluelines()\n",
    "    setpos(0,0)\n",
    "    setheading(0)                          # Set direction to default ... face East or positve x\n",
    "    pd()                                   # Pen Down to start writing\n",
    "    color(\"Black\")                         # Set the line color for grid pad\n",
    "    bgcolor(\"LightYellow\")\n",
    "    \n",
    "    for i in range(4):\n",
    "        setpos(0,0)\n",
    "        fd(10)\n",
    "        rt(90)\n",
    "        \n",
    "    pu()                                   # Pen Up - stop writing\n",
    "    setpos(0,0)\n",
    "\n",
    "    \n",
    "setup()\n",
    "exitonclick()\n"
   ]
  },
  {
   "cell_type": "code",
   "execution_count": null,
   "metadata": {
    "collapsed": true
   },
   "outputs": [],
   "source": []
  }
 ],
 "metadata": {
  "kernelspec": {
   "display_name": "Python 3",
   "language": "python",
   "name": "python3"
  },
  "language_info": {
   "codemirror_mode": {
    "name": "ipython",
    "version": 3
   },
   "file_extension": ".py",
   "mimetype": "text/x-python",
   "name": "python",
   "nbconvert_exporter": "python",
   "pygments_lexer": "ipython3",
   "version": "3.6.1"
  }
 },
 "nbformat": 4,
 "nbformat_minor": 1
}
